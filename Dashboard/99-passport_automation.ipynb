{
 "cells": [
  {
   "cell_type": "code",
   "execution_count": 34,
   "metadata": {},
   "outputs": [],
   "source": [
    "from selenium import webdriver\n",
    "from selenium.webdriver.common.keys import Keys\n",
    "from time import sleep\n",
    "from pathlib import Path\n",
    "# import vlc\n",
    "from datetime import datetime\n",
    "import random\n",
    "import requests\n"
   ]
  },
  {
   "cell_type": "code",
   "execution_count": 9,
   "metadata": {},
   "outputs": [],
   "source": [
    "def select_dropdown_item(driver, xpath, item_num, sleep_time=1.5):\n",
    "    sleep(sleep_time)\n",
    "    dropdown = driver.find_element(by='xpath', value=xpath)\n",
    "    dropdown.click()\n",
    "\n",
    "    sleep(sleep_time)\n",
    "    item = driver.find_element(by='xpath', value=xpath.replace('label', 'panel') + f'/div/ul/li[{item_num}]')\n",
    "    item.click()\n",
    "\n",
    "def click(driver, xpath, sleep_time=1.5):\n",
    "    sleep(sleep_time)\n",
    "    button = driver.find_element(by='xpath', value=xpath)\n",
    "    button.click()\n",
    "\n",
    "def test_page(http_address):\n",
    "    r = requests.get(http_address)\n",
    "    return r.status_code == 200\n"
   ]
  },
  {
   "cell_type": "code",
   "execution_count": 10,
   "metadata": {},
   "outputs": [],
   "source": [
    "def search_consulado(person):\n",
    "    now = datetime.now().strftime('%d-%m-%Y %H:%M:%S')\n",
    "\n",
    "    # test if system is \"ON\"\n",
    "    if not test_page('https://agendamentosonline.mne.gov.pt/AgendamentosOnline/app/scheduleAppointmentForm.jsf'):\n",
    "        print(f\"{now}::{person['name']} System not responding\")\n",
    "        return False\n",
    "\n",
    "    try:\n",
    "        chrome_options = webdriver.ChromeOptions()\n",
    "\n",
    "        chrome_options.add_argument(' —-headless')\n",
    "        chrome_options.add_argument(' —-no-sandbox')\n",
    "        chrome_options.add_argument(' —-disable-dev-shm-usage')\n",
    "        driver = webdriver.Chrome('chromedriver', options=chrome_options)\n",
    "\n",
    "        # sleep(2)\n",
    "        driver.get(\"https://agendamentosonline.mne.gov.pt/AgendamentosOnline/app/scheduleAppointmentForm.jsf\")\n",
    "\n",
    "        # sleep(2)\n",
    "        input_id = driver.find_element(by='xpath', value=\"//*[@id='scheduleForm:tabViewId:ccnum']\")\n",
    "        input_id.send_keys(person['id'])\n",
    "\n",
    "        # sleep(1)\n",
    "        birth_date = driver.find_element(by='xpath', value=\"//*[@id='scheduleForm:tabViewId:dataNascimento_input']\")\n",
    "        birth_date.send_keys(person['birth_date'])\n",
    "\n",
    "        # sleep(1)\n",
    "        pesquisar = driver.find_element(by='xpath', value=\"//*[@id='scheduleForm:tabViewId:searchIcon']/span\")\n",
    "        pesquisar.click()\n",
    "\n",
    "        # seleciona o posto\n",
    "        select_dropdown_item(driver, xpath=\"//*[@id='scheduleForm:postcons_label']\", item_num=person['posto'])\n",
    "\n",
    "        # aceita cookies\n",
    "        click(driver, \"//*[@id='j_idt316']/span\")\n",
    "\n",
    "        # seleciona a categoria\n",
    "        select_dropdown_item(driver, xpath=\"//*[@id='scheduleForm:categato_label']\", item_num=person['categoria'])\n",
    "\n",
    "        # seleciona o ato consular\n",
    "        select_dropdown_item(driver, xpath=\"//*[@id='scheduleForm:atocons_label']\", item_num=person['ato'])\n",
    "\n",
    "        # adicionar ato consular\n",
    "        click(driver, \"//*[@id='scheduleForm:bAddAto']/span\")\n",
    "\n",
    "        # concordar com condições\n",
    "        click (driver, \"//*[@id='scheduleForm:dataTableListaAtos:0:selCond']/div[2]\")\n",
    "\n",
    "        # calendarizar\n",
    "        click(driver, \"//*[@id='scheduleForm:dataTableListaAtos:0:bCal']/span\")\n",
    "\n",
    "    except Exception as e:\n",
    "        print(f\"{now}::{person['name']} ERROR\")\n",
    "        print(e)\n",
    "        return False\n",
    "\n",
    "    sleep(1)\n",
    "    # pegar resultado\n",
    "    try:\n",
    "        resultado = driver.find_element(by='xpath', value=\"//*[@id='scheduleForm:j_idt171']/div[2]/table/tbody/tr[1]/td\")\n",
    "\n",
    "        if resultado.text != 'De momento não existem vagas disponíveis, por favor tente mais tarde.':\n",
    "            print(resultado.text)\n",
    "            print(f\"{now}::{person['name']}Encontrou vagas!!!!\")\n",
    "            return True\n",
    "        else:\n",
    "            print(f\"{now}::{person['name']} Não há vagas!!!!\")\n",
    "            return False\n",
    "    except Exception as e:\n",
    "        print(f\"{now}::{person['name']}Não encontrou o elemento - Pode haver vagas\")\n",
    "        return True\n"
   ]
  },
  {
   "cell_type": "code",
   "execution_count": 11,
   "metadata": {},
   "outputs": [],
   "source": [
    "def play_forever(mp3_path):\n",
    "    i = 0\n",
    "    while i<3:\n",
    "        i = i+1\n",
    "        print('tocando: ' + str(i))\n",
    "        player = vlc.MediaPlayer(mp3_path)\n",
    "        player.play()\n",
    "        \n",
    "        sleep(1)\n",
    "\n",
    "        sleep(player.get_length()/1000)\n",
    "\n"
   ]
  },
  {
   "cell_type": "code",
   "execution_count": 12,
   "metadata": {},
   "outputs": [],
   "source": [
    "mauricio = {\n",
    "    'name': 'MAURICIO',\n",
    "    'id': '9116347225', \n",
    "    'birth_date': '30-08-1977',\n",
    "    'posto': 2,\n",
    "    'categoria': 4,\n",
    "    'ato': 4\n",
    "}\n",
    "\n",
    "selene = {\n",
    "    'name': 'SELENE',\n",
    "    'id': '9115088447', \n",
    "    'birth_date': '10-03-1944',\n",
    "    'posto': 2,\n",
    "    'categoria': 3,\n",
    "    'ato': 2\n",
    "}"
   ]
  },
  {
   "cell_type": "code",
   "execution_count": 6,
   "metadata": {},
   "outputs": [
    {
     "name": "stdout",
     "output_type": "stream",
     "text": [
      "04-11-2022 16:13:04::SELENE ERROR\n",
      "Message: session not created: This version of ChromeDriver only supports Chrome version 104\n",
      "Current browser version is 106.0.5249.119 with binary path C:\\Program Files (x86)\\Google\\Chrome\\Application\\chrome.exe\n",
      "Stacktrace:\n",
      "Backtrace:\n",
      "\tOrdinal0 [0x00B878B3+2193587]\n",
      "\tOrdinal0 [0x00B20681+1771137]\n",
      "\tOrdinal0 [0x00A341A8+803240]\n",
      "\tOrdinal0 [0x00A55CC3+941251]\n",
      "\tOrdinal0 [0x00A513EF+922607]\n",
      "\tOrdinal0 [0x00A4EBC1+912321]\n",
      "\tOrdinal0 [0x00A823B0+1123248]\n",
      "\tOrdinal0 [0x00A8200A+1122314]\n",
      "\tOrdinal0 [0x00A7D5C6+1103302]\n",
      "\tOrdinal0 [0x00A577E0+948192]\n",
      "\tOrdinal0 [0x00A586E6+952038]\n",
      "\tGetHandleVerifier [0x00E30CB2+2738370]\n",
      "\tGetHandleVerifier [0x00E221B8+2678216]\n",
      "\tGetHandleVerifier [0x00C117AA+512954]\n",
      "\tGetHandleVerifier [0x00C10856+509030]\n",
      "\tOrdinal0 [0x00B2743B+1799227]\n",
      "\tOrdinal0 [0x00B2BB68+1817448]\n",
      "\tOrdinal0 [0x00B2BC55+1817685]\n",
      "\tOrdinal0 [0x00B35230+1856048]\n",
      "\tBaseThreadInitThunk [0x76A8FA29+25]\n",
      "\tRtlGetAppContainerNamedObjectPath [0x77597BBE+286]\n",
      "\tRtlGetAppContainerNamedObjectPath [0x77597B8E+238]\n",
      "\n",
      "04-11-2022 16:13:08::MAURICIO ERROR\n",
      "Message: session not created: This version of ChromeDriver only supports Chrome version 104\n",
      "Current browser version is 106.0.5249.119 with binary path C:\\Program Files (x86)\\Google\\Chrome\\Application\\chrome.exe\n",
      "Stacktrace:\n",
      "Backtrace:\n",
      "\tOrdinal0 [0x00B878B3+2193587]\n",
      "\tOrdinal0 [0x00B20681+1771137]\n",
      "\tOrdinal0 [0x00A341A8+803240]\n",
      "\tOrdinal0 [0x00A55CC3+941251]\n",
      "\tOrdinal0 [0x00A513EF+922607]\n",
      "\tOrdinal0 [0x00A4EBC1+912321]\n",
      "\tOrdinal0 [0x00A823B0+1123248]\n",
      "\tOrdinal0 [0x00A8200A+1122314]\n",
      "\tOrdinal0 [0x00A7D5C6+1103302]\n",
      "\tOrdinal0 [0x00A577E0+948192]\n",
      "\tOrdinal0 [0x00A586E6+952038]\n",
      "\tGetHandleVerifier [0x00E30CB2+2738370]\n",
      "\tGetHandleVerifier [0x00E221B8+2678216]\n",
      "\tGetHandleVerifier [0x00C117AA+512954]\n",
      "\tGetHandleVerifier [0x00C10856+509030]\n",
      "\tOrdinal0 [0x00B2743B+1799227]\n",
      "\tOrdinal0 [0x00B2BB68+1817448]\n",
      "\tOrdinal0 [0x00B2BC55+1817685]\n",
      "\tOrdinal0 [0x00B35230+1856048]\n",
      "\tBaseThreadInitThunk [0x76A8FA29+25]\n",
      "\tRtlGetAppContainerNamedObjectPath [0x77597BBE+286]\n",
      "\tRtlGetAppContainerNamedObjectPath [0x77597B8E+238]\n",
      "\n"
     ]
    }
   ],
   "source": [
    "mp3 = Path(r\"D:\\OneDrive - Agência Nacional de Águas\\Fernanda\\SlowPortuguese\\transitions\\bossa-brazil-bossa-nova-2966.mp3\")\n",
    "\n",
    "while True:\n",
    "    # procura vaga maurício\n",
    "    if search_consulado(selene):\n",
    "        play_forever(mp3)\n",
    "\n",
    "    if search_consulado(mauricio):\n",
    "        play_forever(mp3)\n",
    "        \n",
    "    sleep(random.randrange(30, 180))"
   ]
  },
  {
   "cell_type": "code",
   "execution_count": 13,
   "metadata": {},
   "outputs": [
    {
     "ename": "TypeError",
     "evalue": "WebDriver.__init__() got multiple values for argument 'options'",
     "output_type": "error",
     "traceback": [
      "\u001b[0;31m---------------------------------------------------------------------------\u001b[0m",
      "\u001b[0;31mTypeError\u001b[0m                                 Traceback (most recent call last)",
      "Cell \u001b[0;32mIn[13], line 8\u001b[0m\n\u001b[1;32m      6\u001b[0m chrome_options\u001b[38;5;241m.\u001b[39madd_argument(\u001b[38;5;124m'\u001b[39m\u001b[38;5;124m —-no-sandbox\u001b[39m\u001b[38;5;124m'\u001b[39m)\n\u001b[1;32m      7\u001b[0m chrome_options\u001b[38;5;241m.\u001b[39madd_argument(\u001b[38;5;124m'\u001b[39m\u001b[38;5;124m —-disable-dev-shm-usage\u001b[39m\u001b[38;5;124m'\u001b[39m)\n\u001b[0;32m----> 8\u001b[0m driver \u001b[38;5;241m=\u001b[39m \u001b[43mwebdriver\u001b[49m\u001b[38;5;241;43m.\u001b[39;49m\u001b[43mChrome\u001b[49m\u001b[43m(\u001b[49m\u001b[38;5;124;43m'\u001b[39;49m\u001b[38;5;124;43mchromedriver\u001b[39;49m\u001b[38;5;124;43m'\u001b[39;49m\u001b[43m,\u001b[49m\u001b[43m \u001b[49m\u001b[43moptions\u001b[49m\u001b[38;5;241;43m=\u001b[39;49m\u001b[43mchrome_options\u001b[49m\u001b[43m)\u001b[49m\n\u001b[1;32m     10\u001b[0m \u001b[38;5;66;03m# sleep(2)\u001b[39;00m\n\u001b[1;32m     11\u001b[0m driver\u001b[38;5;241m.\u001b[39mget(\u001b[38;5;124m\"\u001b[39m\u001b[38;5;124mhttps://agendamentosonline.mne.gov.pt/AgendamentosOnline/app/scheduleAppointmentForm.jsf\u001b[39m\u001b[38;5;124m\"\u001b[39m)\n",
      "\u001b[0;31mTypeError\u001b[0m: WebDriver.__init__() got multiple values for argument 'options'"
     ]
    }
   ],
   "source": [
    "person = mauricio\n",
    "\n",
    "chrome_options = webdriver.ChromeOptions()\n",
    "\n",
    "chrome_options.add_argument(' —-headless')\n",
    "chrome_options.add_argument(' —-no-sandbox')\n",
    "chrome_options.add_argument(' —-disable-dev-shm-usage')\n",
    "driver = webdriver.Chrome('chromedriver', options=chrome_options)\n",
    "\n",
    "# sleep(2)\n",
    "driver.get(\"https://agendamentosonline.mne.gov.pt/AgendamentosOnline/app/scheduleAppointmentForm.jsf\")\n",
    "\n",
    "# sleep(2)\n",
    "input_id = driver.find_element(by='xpath', value=\"//*[@id='scheduleForm:tabViewId:ccnum']\")\n",
    "input_id.send_keys(person['id'])\n",
    "\n",
    "# sleep(1)\n",
    "birth_date = driver.find_element(by='xpath', value=\"//*[@id='scheduleForm:tabViewId:dataNascimento_input']\")\n",
    "birth_date.send_keys(person['birth_date'])\n",
    "\n",
    "# sleep(1)\n",
    "pesquisar = driver.find_element(by='xpath', value=\"//*[@id='scheduleForm:tabViewId:searchIcon']/span\")\n",
    "pesquisar.click()\n"
   ]
  },
  {
   "cell_type": "code",
   "execution_count": 15,
   "metadata": {},
   "outputs": [
    {
     "ename": "SessionNotCreatedException",
     "evalue": "Message: session not created: Chrome failed to start: exited normally.\n  (session not created: DevToolsActivePort file doesn't exist)\n  (The process started from chrome location /usr/bin/chromium is no longer running, so ChromeDriver is assuming that Chrome has crashed.)\nStacktrace:\n#0 0x55c6c27af8a3 <unknown>\n#1 0x55c6c249f927 <unknown>\n#2 0x55c6c24d288d <unknown>\n#3 0x55c6c24ce1e2 <unknown>\n#4 0x55c6c2515f80 <unknown>\n#5 0x55c6c25081d3 <unknown>\n#6 0x55c6c24d963d <unknown>\n#7 0x55c6c24da3f2 <unknown>\n#8 0x55c6c2781816 <unknown>\n#9 0x55c6c2784bb9 <unknown>\n#10 0x55c6c278467f <unknown>\n#11 0x55c6c2785035 <unknown>\n#12 0x55c6c2772fbf <unknown>\n#13 0x55c6c27853d0 <unknown>\n#14 0x55c6c275c4d6 <unknown>\n#15 0x55c6c27a07a5 <unknown>\n#16 0x55c6c27a09c8 <unknown>\n#17 0x55c6c27aee2f <unknown>\n#18 0x7f7c5ef11134 <unknown>\n",
     "output_type": "error",
     "traceback": [
      "\u001b[0;31m---------------------------------------------------------------------------\u001b[0m",
      "\u001b[0;31mSessionNotCreatedException\u001b[0m                Traceback (most recent call last)",
      "Cell \u001b[0;32mIn[15], line 1\u001b[0m\n\u001b[0;32m----> 1\u001b[0m driver \u001b[38;5;241m=\u001b[39m \u001b[43mwebdriver\u001b[49m\u001b[38;5;241;43m.\u001b[39;49m\u001b[43mChrome\u001b[49m\u001b[43m(\u001b[49m\u001b[43moptions\u001b[49m\u001b[38;5;241;43m=\u001b[39;49m\u001b[43mchrome_options\u001b[49m\u001b[43m)\u001b[49m\n",
      "File \u001b[0;32m/usr/local/lib/python3.10/site-packages/selenium/webdriver/chrome/webdriver.py:45\u001b[0m, in \u001b[0;36mWebDriver.__init__\u001b[0;34m(self, options, service, keep_alive)\u001b[0m\n\u001b[1;32m     42\u001b[0m service \u001b[38;5;241m=\u001b[39m service \u001b[38;5;28;01mif\u001b[39;00m service \u001b[38;5;28;01melse\u001b[39;00m Service()\n\u001b[1;32m     43\u001b[0m options \u001b[38;5;241m=\u001b[39m options \u001b[38;5;28;01mif\u001b[39;00m options \u001b[38;5;28;01melse\u001b[39;00m Options()\n\u001b[0;32m---> 45\u001b[0m \u001b[38;5;28;43msuper\u001b[39;49m\u001b[43m(\u001b[49m\u001b[43m)\u001b[49m\u001b[38;5;241;43m.\u001b[39;49m\u001b[38;5;21;43m__init__\u001b[39;49m\u001b[43m(\u001b[49m\n\u001b[1;32m     46\u001b[0m \u001b[43m    \u001b[49m\u001b[43mbrowser_name\u001b[49m\u001b[38;5;241;43m=\u001b[39;49m\u001b[43mDesiredCapabilities\u001b[49m\u001b[38;5;241;43m.\u001b[39;49m\u001b[43mCHROME\u001b[49m\u001b[43m[\u001b[49m\u001b[38;5;124;43m\"\u001b[39;49m\u001b[38;5;124;43mbrowserName\u001b[39;49m\u001b[38;5;124;43m\"\u001b[39;49m\u001b[43m]\u001b[49m\u001b[43m,\u001b[49m\n\u001b[1;32m     47\u001b[0m \u001b[43m    \u001b[49m\u001b[43mvendor_prefix\u001b[49m\u001b[38;5;241;43m=\u001b[39;49m\u001b[38;5;124;43m\"\u001b[39;49m\u001b[38;5;124;43mgoog\u001b[39;49m\u001b[38;5;124;43m\"\u001b[39;49m\u001b[43m,\u001b[49m\n\u001b[1;32m     48\u001b[0m \u001b[43m    \u001b[49m\u001b[43moptions\u001b[49m\u001b[38;5;241;43m=\u001b[39;49m\u001b[43moptions\u001b[49m\u001b[43m,\u001b[49m\n\u001b[1;32m     49\u001b[0m \u001b[43m    \u001b[49m\u001b[43mservice\u001b[49m\u001b[38;5;241;43m=\u001b[39;49m\u001b[43mservice\u001b[49m\u001b[43m,\u001b[49m\n\u001b[1;32m     50\u001b[0m \u001b[43m    \u001b[49m\u001b[43mkeep_alive\u001b[49m\u001b[38;5;241;43m=\u001b[39;49m\u001b[43mkeep_alive\u001b[49m\u001b[43m,\u001b[49m\n\u001b[1;32m     51\u001b[0m \u001b[43m\u001b[49m\u001b[43m)\u001b[49m\n",
      "File \u001b[0;32m/usr/local/lib/python3.10/site-packages/selenium/webdriver/chromium/webdriver.py:61\u001b[0m, in \u001b[0;36mChromiumDriver.__init__\u001b[0;34m(self, browser_name, vendor_prefix, options, service, keep_alive)\u001b[0m\n\u001b[1;32m     52\u001b[0m executor \u001b[38;5;241m=\u001b[39m ChromiumRemoteConnection(\n\u001b[1;32m     53\u001b[0m     remote_server_addr\u001b[38;5;241m=\u001b[39m\u001b[38;5;28mself\u001b[39m\u001b[38;5;241m.\u001b[39mservice\u001b[38;5;241m.\u001b[39mservice_url,\n\u001b[1;32m     54\u001b[0m     browser_name\u001b[38;5;241m=\u001b[39mbrowser_name,\n\u001b[0;32m   (...)\u001b[0m\n\u001b[1;32m     57\u001b[0m     ignore_proxy\u001b[38;5;241m=\u001b[39moptions\u001b[38;5;241m.\u001b[39m_ignore_local_proxy,\n\u001b[1;32m     58\u001b[0m )\n\u001b[1;32m     60\u001b[0m \u001b[38;5;28;01mtry\u001b[39;00m:\n\u001b[0;32m---> 61\u001b[0m     \u001b[38;5;28;43msuper\u001b[39;49m\u001b[43m(\u001b[49m\u001b[43m)\u001b[49m\u001b[38;5;241;43m.\u001b[39;49m\u001b[38;5;21;43m__init__\u001b[39;49m\u001b[43m(\u001b[49m\u001b[43mcommand_executor\u001b[49m\u001b[38;5;241;43m=\u001b[39;49m\u001b[43mexecutor\u001b[49m\u001b[43m,\u001b[49m\u001b[43m \u001b[49m\u001b[43moptions\u001b[49m\u001b[38;5;241;43m=\u001b[39;49m\u001b[43moptions\u001b[49m\u001b[43m)\u001b[49m\n\u001b[1;32m     62\u001b[0m \u001b[38;5;28;01mexcept\u001b[39;00m \u001b[38;5;167;01mException\u001b[39;00m:\n\u001b[1;32m     63\u001b[0m     \u001b[38;5;28mself\u001b[39m\u001b[38;5;241m.\u001b[39mquit()\n",
      "File \u001b[0;32m/usr/local/lib/python3.10/site-packages/selenium/webdriver/remote/webdriver.py:208\u001b[0m, in \u001b[0;36mWebDriver.__init__\u001b[0;34m(self, command_executor, keep_alive, file_detector, options)\u001b[0m\n\u001b[1;32m    206\u001b[0m \u001b[38;5;28mself\u001b[39m\u001b[38;5;241m.\u001b[39m_authenticator_id \u001b[38;5;241m=\u001b[39m \u001b[38;5;28;01mNone\u001b[39;00m\n\u001b[1;32m    207\u001b[0m \u001b[38;5;28mself\u001b[39m\u001b[38;5;241m.\u001b[39mstart_client()\n\u001b[0;32m--> 208\u001b[0m \u001b[38;5;28;43mself\u001b[39;49m\u001b[38;5;241;43m.\u001b[39;49m\u001b[43mstart_session\u001b[49m\u001b[43m(\u001b[49m\u001b[43mcapabilities\u001b[49m\u001b[43m)\u001b[49m\n",
      "File \u001b[0;32m/usr/local/lib/python3.10/site-packages/selenium/webdriver/remote/webdriver.py:292\u001b[0m, in \u001b[0;36mWebDriver.start_session\u001b[0;34m(self, capabilities)\u001b[0m\n\u001b[1;32m    285\u001b[0m \u001b[38;5;250m\u001b[39m\u001b[38;5;124;03m\"\"\"Creates a new session with the desired capabilities.\u001b[39;00m\n\u001b[1;32m    286\u001b[0m \n\u001b[1;32m    287\u001b[0m \u001b[38;5;124;03m:Args:\u001b[39;00m\n\u001b[1;32m    288\u001b[0m \u001b[38;5;124;03m - capabilities - a capabilities dict to start the session with.\u001b[39;00m\n\u001b[1;32m    289\u001b[0m \u001b[38;5;124;03m\"\"\"\u001b[39;00m\n\u001b[1;32m    291\u001b[0m caps \u001b[38;5;241m=\u001b[39m _create_caps(capabilities)\n\u001b[0;32m--> 292\u001b[0m response \u001b[38;5;241m=\u001b[39m \u001b[38;5;28;43mself\u001b[39;49m\u001b[38;5;241;43m.\u001b[39;49m\u001b[43mexecute\u001b[49m\u001b[43m(\u001b[49m\u001b[43mCommand\u001b[49m\u001b[38;5;241;43m.\u001b[39;49m\u001b[43mNEW_SESSION\u001b[49m\u001b[43m,\u001b[49m\u001b[43m \u001b[49m\u001b[43mcaps\u001b[49m\u001b[43m)\u001b[49m[\u001b[38;5;124m\"\u001b[39m\u001b[38;5;124mvalue\u001b[39m\u001b[38;5;124m\"\u001b[39m]\n\u001b[1;32m    293\u001b[0m \u001b[38;5;28mself\u001b[39m\u001b[38;5;241m.\u001b[39msession_id \u001b[38;5;241m=\u001b[39m response\u001b[38;5;241m.\u001b[39mget(\u001b[38;5;124m\"\u001b[39m\u001b[38;5;124msessionId\u001b[39m\u001b[38;5;124m\"\u001b[39m)\n\u001b[1;32m    294\u001b[0m \u001b[38;5;28mself\u001b[39m\u001b[38;5;241m.\u001b[39mcaps \u001b[38;5;241m=\u001b[39m response\u001b[38;5;241m.\u001b[39mget(\u001b[38;5;124m\"\u001b[39m\u001b[38;5;124mcapabilities\u001b[39m\u001b[38;5;124m\"\u001b[39m)\n",
      "File \u001b[0;32m/usr/local/lib/python3.10/site-packages/selenium/webdriver/remote/webdriver.py:347\u001b[0m, in \u001b[0;36mWebDriver.execute\u001b[0;34m(self, driver_command, params)\u001b[0m\n\u001b[1;32m    345\u001b[0m response \u001b[38;5;241m=\u001b[39m \u001b[38;5;28mself\u001b[39m\u001b[38;5;241m.\u001b[39mcommand_executor\u001b[38;5;241m.\u001b[39mexecute(driver_command, params)\n\u001b[1;32m    346\u001b[0m \u001b[38;5;28;01mif\u001b[39;00m response:\n\u001b[0;32m--> 347\u001b[0m     \u001b[38;5;28;43mself\u001b[39;49m\u001b[38;5;241;43m.\u001b[39;49m\u001b[43merror_handler\u001b[49m\u001b[38;5;241;43m.\u001b[39;49m\u001b[43mcheck_response\u001b[49m\u001b[43m(\u001b[49m\u001b[43mresponse\u001b[49m\u001b[43m)\u001b[49m\n\u001b[1;32m    348\u001b[0m     response[\u001b[38;5;124m\"\u001b[39m\u001b[38;5;124mvalue\u001b[39m\u001b[38;5;124m\"\u001b[39m] \u001b[38;5;241m=\u001b[39m \u001b[38;5;28mself\u001b[39m\u001b[38;5;241m.\u001b[39m_unwrap_value(response\u001b[38;5;241m.\u001b[39mget(\u001b[38;5;124m\"\u001b[39m\u001b[38;5;124mvalue\u001b[39m\u001b[38;5;124m\"\u001b[39m, \u001b[38;5;28;01mNone\u001b[39;00m))\n\u001b[1;32m    349\u001b[0m     \u001b[38;5;28;01mreturn\u001b[39;00m response\n",
      "File \u001b[0;32m/usr/local/lib/python3.10/site-packages/selenium/webdriver/remote/errorhandler.py:229\u001b[0m, in \u001b[0;36mErrorHandler.check_response\u001b[0;34m(self, response)\u001b[0m\n\u001b[1;32m    227\u001b[0m         alert_text \u001b[38;5;241m=\u001b[39m value[\u001b[38;5;124m\"\u001b[39m\u001b[38;5;124malert\u001b[39m\u001b[38;5;124m\"\u001b[39m]\u001b[38;5;241m.\u001b[39mget(\u001b[38;5;124m\"\u001b[39m\u001b[38;5;124mtext\u001b[39m\u001b[38;5;124m\"\u001b[39m)\n\u001b[1;32m    228\u001b[0m     \u001b[38;5;28;01mraise\u001b[39;00m exception_class(message, screen, stacktrace, alert_text)  \u001b[38;5;66;03m# type: ignore[call-arg]  # mypy is not smart enough here\u001b[39;00m\n\u001b[0;32m--> 229\u001b[0m \u001b[38;5;28;01mraise\u001b[39;00m exception_class(message, screen, stacktrace)\n",
      "\u001b[0;31mSessionNotCreatedException\u001b[0m: Message: session not created: Chrome failed to start: exited normally.\n  (session not created: DevToolsActivePort file doesn't exist)\n  (The process started from chrome location /usr/bin/chromium is no longer running, so ChromeDriver is assuming that Chrome has crashed.)\nStacktrace:\n#0 0x55c6c27af8a3 <unknown>\n#1 0x55c6c249f927 <unknown>\n#2 0x55c6c24d288d <unknown>\n#3 0x55c6c24ce1e2 <unknown>\n#4 0x55c6c2515f80 <unknown>\n#5 0x55c6c25081d3 <unknown>\n#6 0x55c6c24d963d <unknown>\n#7 0x55c6c24da3f2 <unknown>\n#8 0x55c6c2781816 <unknown>\n#9 0x55c6c2784bb9 <unknown>\n#10 0x55c6c278467f <unknown>\n#11 0x55c6c2785035 <unknown>\n#12 0x55c6c2772fbf <unknown>\n#13 0x55c6c27853d0 <unknown>\n#14 0x55c6c275c4d6 <unknown>\n#15 0x55c6c27a07a5 <unknown>\n#16 0x55c6c27a09c8 <unknown>\n#17 0x55c6c27aee2f <unknown>\n#18 0x7f7c5ef11134 <unknown>\n"
     ]
    }
   ],
   "source": [
    "driver = webdriver.Chrome(options=chrome_options)\n"
   ]
  },
  {
   "cell_type": "code",
   "execution_count": 14,
   "metadata": {},
   "outputs": [],
   "source": [
    "\n",
    "click(driver, \"//*[@id='j_idt316']/span\")\n",
    "# seleciona o posto\n",
    "select_dropdown_item(driver, xpath=\"//*[@id='scheduleForm:postcons_label']\", item_num=person['posto'])\n"
   ]
  },
  {
   "cell_type": "code",
   "execution_count": 15,
   "metadata": {},
   "outputs": [],
   "source": [
    "\n",
    "# seleciona a categoria\n",
    "select_dropdown_item(driver, xpath=\"//*[@id='scheduleForm:categato_label']\", item_num=person['categoria'])\n"
   ]
  },
  {
   "cell_type": "code",
   "execution_count": 16,
   "metadata": {},
   "outputs": [],
   "source": [
    "\n",
    "# seleciona o ato consular\n",
    "select_dropdown_item(driver, xpath=\"//*[@id='scheduleForm:atocons_label']\", item_num=person['ato'])\n",
    "\n",
    "# adicionar ato consular\n",
    "click(driver, \"//*[@id='scheduleForm:bAddAto']/span\")\n",
    "\n",
    "# concordar com condições\n",
    "click (driver, \"//*[@id='scheduleForm:dataTableListaAtos:0:selCond']/div[2]\")\n",
    "\n",
    "# calendarizar\n",
    "click(driver, \"//*[@id='scheduleForm:dataTableListaAtos:0:bCal']/span\")\n",
    "\n"
   ]
  },
  {
   "cell_type": "code",
   "execution_count": 17,
   "metadata": {},
   "outputs": [],
   "source": [
    " driver.close()"
   ]
  },
  {
   "cell_type": "code",
   "execution_count": null,
   "metadata": {},
   "outputs": [],
   "source": []
  }
 ],
 "metadata": {
  "kernelspec": {
   "display_name": "Python 3.8.12 ('quant')",
   "language": "python",
   "name": "python3"
  },
  "language_info": {
   "codemirror_mode": {
    "name": "ipython",
    "version": 3
   },
   "file_extension": ".py",
   "mimetype": "text/x-python",
   "name": "python",
   "nbconvert_exporter": "python",
   "pygments_lexer": "ipython3",
   "version": "3.10.14"
  },
  "orig_nbformat": 4,
  "vscode": {
   "interpreter": {
    "hash": "444d1ade7e37f871cb916975efd9bde2db3fb506684f90bbcc9b40e43fb46377"
   }
  }
 },
 "nbformat": 4,
 "nbformat_minor": 2
}
