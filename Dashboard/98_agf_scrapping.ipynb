{
 "cells": [
  {
   "cell_type": "markdown",
   "metadata": {},
   "source": [
    "# AGF+ Scrapping"
   ]
  },
  {
   "cell_type": "markdown",
   "metadata": {},
   "source": [
    "The first step is to Get AGF+ tables using the AgfParser and save them to the data folder."
   ]
  },
  {
   "cell_type": "code",
   "execution_count": 1,
   "metadata": {},
   "outputs": [],
   "source": [
    "%load_ext autoreload\n",
    "%autoreload 2"
   ]
  },
  {
   "cell_type": "code",
   "execution_count": 2,
   "metadata": {},
   "outputs": [],
   "source": [
    "from dashboards.agf_parser import AgfParser"
   ]
  },
  {
   "cell_type": "markdown",
   "metadata": {},
   "source": [
    "## Exporting the dataframes"
   ]
  },
  {
   "cell_type": "code",
   "execution_count": 3,
   "metadata": {},
   "outputs": [],
   "source": [
    "agf = AgfParser(login='cordmaur@gmail.com', password='Eethath1@', headless=False, window_size='1300, 1000')\n",
    "agf.signin()"
   ]
  },
  {
   "cell_type": "code",
   "execution_count": 4,
   "metadata": {},
   "outputs": [
    {
     "name": "stdout",
     "output_type": "stream",
     "text": [
      "Carregando Carteira Oportunidades\n",
      "Dismissing alerts\n",
      "Aguardando mudar para tabela\n",
      "Carregando Carteira Previdenciária\n",
      "Dismissing alerts\n",
      "Aguardando mudar para tabela\n",
      "Mudando para DPA medio\n",
      "Dismissing alerts\n",
      "Esperando aparecer alerta para fechar\n",
      "Ja estava na Carteira Previdenciária\n",
      "Dismissing alerts\n",
      "Já está como tabela\n",
      "Mudando para DPA projetivo\n",
      "Dismissing alerts\n",
      "Esperando aparecer alerta para fechar\n"
     ]
    }
   ],
   "source": [
    "agf.export_dfs()"
   ]
  },
  {
   "cell_type": "code",
   "execution_count": 5,
   "metadata": {},
   "outputs": [],
   "source": [
    "agf.close()"
   ]
  },
  {
   "cell_type": "markdown",
   "metadata": {},
   "source": [
    "## Testing the AgfParser"
   ]
  },
  {
   "cell_type": "code",
   "execution_count": 11,
   "metadata": {},
   "outputs": [
    {
     "data": {
      "text/plain": [
       "True"
      ]
     },
     "execution_count": 11,
     "metadata": {},
     "output_type": "execute_result"
    }
   ],
   "source": [
    "agf.inside_portfolio('previdenciaria')"
   ]
  },
  {
   "cell_type": "code",
   "execution_count": 23,
   "metadata": {},
   "outputs": [
    {
     "name": "stdout",
     "output_type": "stream",
     "text": [
      "Carregando Carteira Oportunidades\n",
      "Dismissing alerts\n",
      "Já está como tabela\n"
     ]
    }
   ],
   "source": [
    "agf.open_oportunidades()"
   ]
  },
  {
   "cell_type": "code",
   "execution_count": 28,
   "metadata": {},
   "outputs": [
    {
     "name": "stdout",
     "output_type": "stream",
     "text": [
      "Ja estava na Carteira Previdenciária\n",
      "Dismissing alerts\n",
      "Já está como tabela\n",
      "Mudando para DPA projetivo\n",
      "Dismissing alerts\n",
      "Esperando aparecer alerta para fechar\n"
     ]
    }
   ],
   "source": [
    "agf.open_previdenciaria('projetivo')"
   ]
  },
  {
   "cell_type": "code",
   "execution_count": null,
   "metadata": {},
   "outputs": [],
   "source": [
    "//*[@id=\"main\"]/div[2]/div[2]/span[3]/button"
   ]
  },
  {
   "cell_type": "code",
   "execution_count": null,
   "metadata": {},
   "outputs": [],
   "source": []
  },
  {
   "cell_type": "code",
   "execution_count": null,
   "metadata": {},
   "outputs": [],
   "source": []
  },
  {
   "cell_type": "code",
   "execution_count": null,
   "metadata": {},
   "outputs": [],
   "source": [
    "//*[@id=\"main\"]/div[2]/div[2]/span[3]/span/a[3]"
   ]
  }
 ],
 "metadata": {
  "kernelspec": {
   "display_name": "Python 3.8.12 ('quant')",
   "language": "python",
   "name": "python3"
  },
  "language_info": {
   "codemirror_mode": {
    "name": "ipython",
    "version": 3
   },
   "file_extension": ".py",
   "mimetype": "text/x-python",
   "name": "python",
   "nbconvert_exporter": "python",
   "pygments_lexer": "ipython3",
   "version": "3.8.12"
  },
  "orig_nbformat": 4,
  "vscode": {
   "interpreter": {
    "hash": "444d1ade7e37f871cb916975efd9bde2db3fb506684f90bbcc9b40e43fb46377"
   }
  }
 },
 "nbformat": 4,
 "nbformat_minor": 2
}
