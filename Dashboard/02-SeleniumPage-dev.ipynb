{
 "cells": [
  {
   "cell_type": "markdown",
   "metadata": {},
   "source": [
    "## Testing SeleniumPage class"
   ]
  },
  {
   "cell_type": "markdown",
   "metadata": {},
   "source": [
    "We will try to setup everything related to selenium in the `selenium_utils` module. \n"
   ]
  },
  {
   "cell_type": "code",
   "execution_count": 6,
   "metadata": {},
   "outputs": [],
   "source": [
    "%load_ext autoreload\n",
    "%autoreload 2\n",
    "import os\n",
    "from dashboards.selenium_utils import SeleniumPage\n",
    "from dashboards.yahoo_parser import YahooParser"
   ]
  },
  {
   "cell_type": "code",
   "execution_count": 2,
   "metadata": {},
   "outputs": [
    {
     "data": {
      "text/plain": [
       "'host.docker.internal:0'"
      ]
     },
     "execution_count": 2,
     "metadata": {},
     "output_type": "execute_result"
    }
   ],
   "source": [
    "os.environ['DISPLAY']"
   ]
  },
  {
   "cell_type": "code",
   "execution_count": 3,
   "metadata": {},
   "outputs": [],
   "source": [
    "# Create a new instance of SeleniumPage with the provided parameters\n",
    "page = SeleniumPage(\n",
    "    url=\"https://www.example.com\",\n",
    "    implicit_wait_seconds=30,\n",
    "    window_size=\"1024,768\",\n",
    "    headless=False,\n",
    ")"
   ]
  },
  {
   "cell_type": "code",
   "execution_count": 9,
   "metadata": {},
   "outputs": [
    {
     "data": {
      "text/plain": [
       "{'quote': '21.84',\n",
       " 'recomendation': '2.5',\n",
       " 'low': '21.83',\n",
       " 'mean': '25.02',\n",
       " 'high': '28.00',\n",
       " 'analists': 'Preços Alvos de Analistas (8)'}"
      ]
     },
     "execution_count": 9,
     "metadata": {},
     "output_type": "execute_result"
    }
   ],
   "source": [
    "page.get('https://br.financas.yahoo.com/quote/ABCB4.SA')\n",
    "page.scroll_down(2, height=1000, sleep_time=0.0)\n",
    "\n",
    "\n",
    "# get the results\n",
    "results = {\n",
    "    result: page.get_value(\n",
    "        YahooParser.elements[result], wait_time=0.0, dont_wait=True\n",
    "    ).replace(\",\", \".\")\n",
    "    for result in YahooParser.results\n",
    "}\n",
    "\n",
    "results"
   ]
  },
  {
   "cell_type": "code",
   "execution_count": 7,
   "metadata": {},
   "outputs": [
    {
     "name": "stdout",
     "output_type": "stream",
     "text": [
      "Fetching ticker ABCB4\n",
      "Elapsed time: 0:00:20.751529\n",
      "{'quote': 21.88, 'recomendation': 2.5, 'low': 21.83, 'mean': 25.02, 'high': 28.0, 'analists': 8}\n"
     ]
    },
    {
     "data": {
      "text/plain": [
       "{'quote': 21.88,\n",
       " 'recomendation': 2.5,\n",
       " 'low': 21.83,\n",
       " 'mean': 25.02,\n",
       " 'high': 28.0,\n",
       " 'analists': 8}"
      ]
     },
     "execution_count": 7,
     "metadata": {},
     "output_type": "execute_result"
    }
   ],
   "source": [
    "yahoo_parser = YahooParser(headless=False)\n",
    "yahoo_parser.get_ticker('ABCB4')"
   ]
  },
  {
   "cell_type": "code",
   "execution_count": null,
   "metadata": {},
   "outputs": [],
   "source": []
  },
  {
   "cell_type": "code",
   "execution_count": null,
   "metadata": {},
   "outputs": [],
   "source": []
  },
  {
   "cell_type": "code",
   "execution_count": null,
   "metadata": {},
   "outputs": [],
   "source": []
  }
 ],
 "metadata": {
  "kernelspec": {
   "display_name": "Python 3",
   "language": "python",
   "name": "python3"
  },
  "language_info": {
   "codemirror_mode": {
    "name": "ipython",
    "version": 3
   },
   "file_extension": ".py",
   "mimetype": "text/x-python",
   "name": "python",
   "nbconvert_exporter": "python",
   "pygments_lexer": "ipython3",
   "version": "3.10.14"
  }
 },
 "nbformat": 4,
 "nbformat_minor": 2
}
